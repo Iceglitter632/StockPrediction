{
 "cells": [
  {
   "cell_type": "code",
   "execution_count": 1,
   "metadata": {},
   "outputs": [],
   "source": [
    "import os\n",
    "import pandas as pd\n",
    "import numpy as np\n",
    "\n",
    "inputs = {}\n",
    "for company in os.listdir(\"./data\"):\n",
    "    name = company.split('.')[0]\n",
    "    path = \"./data/\"+company\n",
    "    temp = pd.read_csv(path)\n",
    "    inputs[name] = temp[\"Close\"]"
   ]
  },
  {
   "cell_type": "code",
   "execution_count": 2,
   "metadata": {},
   "outputs": [],
   "source": [
    "from sklearn.preprocessing import MinMaxScaler\n",
    "\n",
    "data, min_max = {}, {}\n",
    "scalar = MinMaxScaler()\n",
    "\n",
    "for company in inputs:\n",
    "    min_max[company] = {\"min\":min(inputs[company]), \"max\":max(inputs[company])}\n",
    "    data[company] = scalar.fit_transform(inputs[company].values.reshape(-1,1))"
   ]
  },
  {
   "cell_type": "code",
   "execution_count": 3,
   "metadata": {},
   "outputs": [
    {
     "data": {
      "text/plain": [
       "{'AAPL': {'min': 11.261429, 'max': 143.160004},\n",
       " 'AMD': {'min': 1.62, 'max': 97.25},\n",
       " 'AMZN': {'min': 173.100006, 'max': 3531.449951},\n",
       " 'BABA': {'min': 57.389999, 'max': 317.140015},\n",
       " 'CSCO': {'min': 13.73, 'max': 58.049999},\n",
       " 'EBAY': {'min': 11.342593, 'max': 64.93},\n",
       " 'FB': {'min': 17.73, 'max': 313.089996},\n",
       " 'GOOG': {'min': 236.553345, 'max': 2315.300049},\n",
       " 'IBM': {'min': 94.769997, 'max': 215.800003},\n",
       " 'INTC': {'min': 19.190001, 'max': 68.470001},\n",
       " 'MSFT': {'min': 23.709999, 'max': 261.149994},\n",
       " 'MU': {'min': 4.33, 'max': 95.589996},\n",
       " 'NFLX': {'min': 7.685714, 'max': 586.340027},\n",
       " 'NOK': {'min': 1.69, 'max': 9.31},\n",
       " 'NVDA': {'min': 11.38, 'max': 645.48999},\n",
       " 'QCOM': {'min': 42.959999, 'max': 164.779999},\n",
       " 'SNPS': {'min': 21.49, 'max': 292.089996},\n",
       " 'TSLA': {'min': 4.39, 'max': 883.090027},\n",
       " 'TXN': {'min': 24.82, 'max': 196.929993},\n",
       " 'XLNX': {'min': 27.059999, 'max': 152.110001}}"
      ]
     },
     "execution_count": 3,
     "metadata": {},
     "output_type": "execute_result"
    }
   ],
   "source": [
    "min_max"
   ]
  },
  {
   "cell_type": "code",
   "execution_count": 4,
   "metadata": {},
   "outputs": [],
   "source": [
    "def split_data(stock, winsize=20):\n",
    "    data = []\n",
    "    for idx in range(len(stock) - winsize):\n",
    "        data.append(stock[idx:idx+winsize])\n",
    "        \n",
    "    data = np.array(data)\n",
    "    \n",
    "    testsize = int(np.round(0.2*data.shape[0]))\n",
    "    trainsize = data.shape[0]-testsize\n",
    "    \n",
    "    x_train = data[:trainsize, :-1].astype(\"float32\")\n",
    "    y_train = data[:trainsize,-1].astype(\"float32\")\n",
    "    \n",
    "    x_test = data[trainsize:,:-1].astype(\"float32\")\n",
    "    y_test = data[trainsize:,-1].astype(\"float32\")\n",
    "    \n",
    "    return x_train, y_train, x_test, y_test"
   ]
  },
  {
   "cell_type": "code",
   "execution_count": 5,
   "metadata": {},
   "outputs": [],
   "source": [
    "#HYPERPARAMETERS\n",
    "winsize = 20\n",
    "epoch = 100\n",
    "lr = 0.001\n",
    "\n",
    "testing_company = \"IBM\""
   ]
  },
  {
   "cell_type": "code",
   "execution_count": 6,
   "metadata": {},
   "outputs": [],
   "source": [
    "import torch\n",
    "import torch.nn as nn\n",
    "import torch.optim as optim\n",
    "\n",
    "x_train, y_train, x_test, y_test = split_data(data[testing_company], winsize)\n",
    "x_train = torch.from_numpy(x_train)\n",
    "y_train = torch.from_numpy(y_train)\n",
    "x_test = torch.from_numpy(x_test)\n",
    "y_test = torch.from_numpy(y_test)\n"
   ]
  },
  {
   "cell_type": "code",
   "execution_count": 7,
   "metadata": {},
   "outputs": [],
   "source": [
    "class GRU(nn.Module):\n",
    "    def __init__(self, input_dim, hidden_dim, num_layers, output_dim):\n",
    "        super(GRU, self).__init__()\n",
    "        self.hidden_dim = hidden_dim\n",
    "        self.num_layers = num_layers\n",
    "        \n",
    "        self.gru = nn.GRU(input_dim, hidden_dim, num_layers, batch_first=True)\n",
    "        self.fc = nn.Linear(hidden_dim, output_dim)\n",
    "\n",
    "    def forward(self, x):\n",
    "        h0 = torch.zeros(self.num_layers, x.size(0), self.hidden_dim).requires_grad_()\n",
    "        out, (hn) = self.gru(x, (h0.detach()))\n",
    "        out = self.fc(out[:, -1, :]) \n",
    "        return out"
   ]
  },
  {
   "cell_type": "code",
   "execution_count": 8,
   "metadata": {},
   "outputs": [],
   "source": [
    "input_dim = 1\n",
    "hidden_dim = 32\n",
    "output_dim = 1\n",
    "layers = 2\n",
    "\n",
    "model = GRU(input_dim, hidden_dim, layers, output_dim)\n",
    "criterion = nn.MSELoss(reduction=\"mean\")\n",
    "optimizer = optim.Adam(model.parameters(), lr=lr)\n"
   ]
  },
  {
   "cell_type": "code",
   "execution_count": 9,
   "metadata": {},
   "outputs": [
    {
     "name": "stdout",
     "output_type": "stream",
     "text": [
      "Epoch 0: loss=0.39031660556793213\n",
      "Epoch 1: loss=0.3553738594055176\n",
      "Epoch 2: loss=0.3221394121646881\n",
      "Epoch 3: loss=0.2905508279800415\n",
      "Epoch 4: loss=0.2605050802230835\n",
      "Epoch 5: loss=0.23187506198883057\n",
      "Epoch 6: loss=0.20457351207733154\n",
      "Epoch 7: loss=0.1785796731710434\n",
      "Epoch 8: loss=0.15394338965415955\n",
      "Epoch 9: loss=0.13077977299690247\n",
      "Epoch 10: loss=0.10926477611064911\n",
      "Epoch 11: loss=0.08963464945554733\n",
      "Epoch 12: loss=0.07218567281961441\n",
      "Epoch 13: loss=0.05726846680045128\n",
      "Epoch 14: loss=0.045269712805747986\n",
      "Epoch 15: loss=0.036570023745298386\n",
      "Epoch 16: loss=0.03146249055862427\n",
      "Epoch 17: loss=0.03001258708536625\n",
      "Epoch 18: loss=0.03185629844665527\n",
      "Epoch 19: loss=0.03601912036538124\n",
      "Epoch 20: loss=0.04099045321345329\n",
      "Epoch 21: loss=0.04519602283835411\n",
      "Epoch 22: loss=0.04755610600113869\n",
      "Epoch 23: loss=0.04771964251995087\n",
      "Epoch 24: loss=0.045945458114147186\n",
      "Epoch 25: loss=0.0428348034620285\n",
      "Epoch 26: loss=0.0390804260969162\n",
      "Epoch 27: loss=0.035296451300382614\n",
      "Epoch 28: loss=0.03193230926990509\n",
      "Epoch 29: loss=0.029250800609588623\n",
      "Epoch 30: loss=0.027346787974238396\n",
      "Epoch 31: loss=0.026186393573880196\n",
      "Epoch 32: loss=0.02565157227218151\n",
      "Epoch 33: loss=0.025580910965800285\n",
      "Epoch 34: loss=0.02580203115940094\n",
      "Epoch 35: loss=0.026154404506087303\n",
      "Epoch 36: loss=0.0265034232288599\n",
      "Epoch 37: loss=0.026747405529022217\n",
      "Epoch 38: loss=0.026819489896297455\n",
      "Epoch 39: loss=0.026685917750000954\n",
      "Epoch 40: loss=0.026342172175645828\n",
      "Epoch 41: loss=0.025807777419686317\n",
      "Epoch 42: loss=0.02512039616703987\n",
      "Epoch 43: loss=0.024329662322998047\n",
      "Epoch 44: loss=0.02349087782204151\n",
      "Epoch 45: loss=0.022658970206975937\n",
      "Epoch 46: loss=0.021882738918066025\n",
      "Epoch 47: loss=0.021199906244874\n",
      "Epoch 48: loss=0.020633257925510406\n",
      "Epoch 49: loss=0.020188448950648308\n",
      "Epoch 50: loss=0.019853897392749786\n",
      "Epoch 51: loss=0.01960313320159912\n",
      "Epoch 52: loss=0.019399475306272507\n",
      "Epoch 53: loss=0.019202476367354393\n",
      "Epoch 54: loss=0.018974987789988518\n",
      "Epoch 55: loss=0.018689431250095367\n",
      "Epoch 56: loss=0.01833195984363556\n",
      "Epoch 57: loss=0.017903540283441544\n",
      "Epoch 58: loss=0.0174180269241333\n",
      "Epoch 59: loss=0.01689780130982399\n",
      "Epoch 60: loss=0.016368241980671883\n",
      "Epoch 61: loss=0.015852339565753937\n",
      "Epoch 62: loss=0.015366502106189728\n",
      "Epoch 63: loss=0.01491830125451088\n",
      "Epoch 64: loss=0.014506223611533642\n",
      "Epoch 65: loss=0.01412122044712305\n",
      "Epoch 66: loss=0.013749505393207073\n",
      "Epoch 67: loss=0.013375883921980858\n",
      "Epoch 68: loss=0.01298698503524065\n",
      "Epoch 69: loss=0.012573769316077232\n",
      "Epoch 70: loss=0.012132974341511726\n",
      "Epoch 71: loss=0.011667229235172272\n",
      "Epoch 72: loss=0.011183996684849262\n",
      "Epoch 73: loss=0.01069353986531496\n",
      "Epoch 74: loss=0.010206338949501514\n",
      "Epoch 75: loss=0.009730585850775242\n",
      "Epoch 76: loss=0.009270292706787586\n",
      "Epoch 77: loss=0.008824559859931469\n",
      "Epoch 78: loss=0.008388254791498184\n",
      "Epoch 79: loss=0.007953978143632412\n",
      "Epoch 80: loss=0.007514755707234144\n",
      "Epoch 81: loss=0.007066598627716303\n",
      "Epoch 82: loss=0.006610027514398098\n",
      "Epoch 83: loss=0.0061500403098762035\n",
      "Epoch 84: loss=0.005694487132132053\n",
      "Epoch 85: loss=0.005251525901257992\n",
      "Epoch 86: loss=0.004827085882425308\n",
      "Epoch 87: loss=0.00442331749945879\n",
      "Epoch 88: loss=0.004038647282868624\n",
      "Epoch 89: loss=0.0036693899892270565\n",
      "Epoch 90: loss=0.0033122675959020853\n",
      "Epoch 91: loss=0.002966767642647028\n",
      "Epoch 92: loss=0.0026362095959484577\n",
      "Epoch 93: loss=0.00232699909247458\n",
      "Epoch 94: loss=0.0020462784450501204\n",
      "Epoch 95: loss=0.0017990916967391968\n",
      "Epoch 96: loss=0.0015865603927522898\n",
      "Epoch 97: loss=0.0014061410911381245\n",
      "Epoch 98: loss=0.0012539318995550275\n",
      "Epoch 99: loss=0.0011275401338934898\n"
     ]
    }
   ],
   "source": [
    "history = []\n",
    "\n",
    "for i in range(epoch):\n",
    "    pred = model(x_train)\n",
    "    loss = criterion(pred, y_train)\n",
    "    print(\"Epoch {}: loss={}\".format(i, loss.item()))\n",
    "    history.append(loss.item())\n",
    "    \n",
    "    optimizer.zero_grad()\n",
    "    loss.backward()\n",
    "    optimizer.step()\n",
    "    "
   ]
  },
  {
   "cell_type": "code",
   "execution_count": 10,
   "metadata": {},
   "outputs": [],
   "source": [
    "#for testing\n",
    "model.eval()\n",
    "pred = model(x_test)"
   ]
  },
  {
   "cell_type": "code",
   "execution_count": 11,
   "metadata": {},
   "outputs": [
    {
     "data": {
      "image/png": "[encoded data removed]",
      "text/plain": [
       "<Figure size 432x288 with 1 Axes>"
      ]
     },
     "metadata": {
      "needs_background": "light"
     },
     "output_type": "display_data"
    }
   ],
   "source": [
    "import matplotlib.pyplot as plt\n",
    "\n",
    "y_pred = pred.detach().numpy()\n",
    "y_true = y_test.detach().numpy()\n",
    "\n",
    "y_pred = (y_pred+min_max[testing_company][\"min\"])*min_max[testing_company][\"max\"]\n",
    "y_true = (y_true+min_max[testing_company][\"min\"])*min_max[testing_company][\"max\"]\n",
    "\n",
    "plt.plot(y_pred, label=\"predict\")\n",
    "plt.plot(y_true, label=\"true\")\n",
    "plt.legend()\n",
    "plt.show()"
   ]
  },
  {
   "cell_type": "code",
   "execution_count": null,
   "metadata": {},
   "outputs": [],
   "source": []
  },
  {
   "cell_type": "code",
   "execution_count": null,
   "metadata": {},
   "outputs": [],
   "source": []
  }
 ],
 "metadata": {
  "kernelspec": {
   "display_name": "Python 3",
   "language": "python",
   "name": "python3"
  },
  "language_info": {
   "codemirror_mode": {
    "name": "ipython",
    "version": 3
   },
   "file_extension": ".py",
   "mimetype": "text/x-python",
   "name": "python",
   "nbconvert_exporter": "python",
   "pygments_lexer": "ipython3",
   "version": "3.7.4"
  }
 },
 "nbformat": 4,
 "nbformat_minor": 4
}
